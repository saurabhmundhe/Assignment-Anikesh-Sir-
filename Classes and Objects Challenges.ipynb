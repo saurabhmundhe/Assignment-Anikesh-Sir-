{
 "cells": [
  {
   "cell_type": "code",
   "execution_count": 1,
   "id": "6d050db2",
   "metadata": {},
   "outputs": [
    {
     "name": "stdout",
     "output_type": "stream",
     "text": [
      "35\n"
     ]
    }
   ],
   "source": [
    "# Square Number and Return thier Sum\n",
    "\n",
    "class point:\n",
    "    def __init__(self , x, y, z):\n",
    "        self.x=x\n",
    "        self.y=y\n",
    "        self.z=z\n",
    "    def sqSum(self):\n",
    "        return point.sq_value(self.x)+point.sq_value(self.y)+point.sq_value(self.z)\n",
    "    def sq_value(val):\n",
    "        return val**2\n",
    "    \n",
    "obj = point(1,3,5)\n",
    "print(obj.sqSum())"
   ]
  },
  {
   "cell_type": "code",
   "execution_count": 11,
   "id": "fdcc9b3b",
   "metadata": {},
   "outputs": [
    {
     "name": "stdout",
     "output_type": "stream",
     "text": [
      "Total Mark Obtain: 210\n",
      "Percentage : 70.0\n"
     ]
    }
   ],
   "source": [
    "# Calculate the student's performance\n",
    "\n",
    "class Student:\n",
    "    def __init__(self,name,phy,chm,bio):\n",
    "        self.name = name\n",
    "        self.phy = phy\n",
    "        self.chm = chm\n",
    "        self.bio = bio\n",
    "        \n",
    "    def Total(self):\n",
    "        return self.phy+self.chm+self.bio\n",
    "    \n",
    "    def percentage(self):\n",
    "        return (Student.Total(self) / 300) * 100\n",
    "    \n",
    "std = Student(\"Saurabh\",80,90,40)\n",
    "\n",
    "print(\"Total Mark Obtain:\",std.Total())\n",
    "print(\"Percentage :\",std.percentage())"
   ]
  },
  {
   "cell_type": "code",
   "execution_count": 13,
   "id": "1b91d667",
   "metadata": {},
   "outputs": [
    {
     "name": "stdout",
     "output_type": "stream",
     "text": [
      "104\n",
      "-84\n",
      "940\n",
      "0.10638297872340426\n"
     ]
    }
   ],
   "source": [
    "# Implement a Calculator Class \n",
    "\n",
    "class Calculator:\n",
    "    \n",
    "    def __init__(self, num1, num2):\n",
    "        self.num1=num1\n",
    "        self.num2=num2\n",
    "        \n",
    "    def add(self):\n",
    "        return self.num1+self.num2\n",
    "    \n",
    "    def subtract(self):\n",
    "        return self.num1-self.num2\n",
    "    \n",
    "    def multiply(self):\n",
    "        return self.num1*self.num2\n",
    "    \n",
    "    def divide(self):\n",
    "        return self.num1/self.num2\n",
    "    \n",
    "cal = Calculator(10,94)\n",
    "print(cal.add())\n",
    "print(cal.subtract())\n",
    "print(cal.multiply())\n",
    "print(cal.divide())"
   ]
  },
  {
   "cell_type": "code",
   "execution_count": null,
   "id": "674e791d",
   "metadata": {},
   "outputs": [],
   "source": []
  }
 ],
 "metadata": {
  "kernelspec": {
   "display_name": "Python 3 (ipykernel)",
   "language": "python",
   "name": "python3"
  },
  "language_info": {
   "codemirror_mode": {
    "name": "ipython",
    "version": 3
   },
   "file_extension": ".py",
   "mimetype": "text/x-python",
   "name": "python",
   "nbconvert_exporter": "python",
   "pygments_lexer": "ipython3",
   "version": "3.10.1"
  }
 },
 "nbformat": 4,
 "nbformat_minor": 5
}
